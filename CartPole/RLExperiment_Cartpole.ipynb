{
 "cells": [
  {
   "cell_type": "code",
   "execution_count": 1,
   "metadata": {},
   "outputs": [],
   "source": [
    "import gym\n",
    "import numpy as np\n",
    "import math\n",
    "import matplotlib.pyplot as plt\n",
    "import pickle"
   ]
  },
  {
   "cell_type": "code",
   "execution_count": 2,
   "metadata": {},
   "outputs": [
    {
     "name": "stdout",
     "output_type": "stream",
     "text": [
      "observation space: Box(4,)\n",
      "action space: Discrete(2)\n",
      "observation space low bound: [-4.8000002e+00 -3.4028235e+38 -4.1887903e-01 -3.4028235e+38]\n",
      "observation space high bound: [4.8000002e+00 3.4028235e+38 4.1887903e-01 3.4028235e+38]\n"
     ]
    }
   ],
   "source": [
    "env=gym.make('CartPole-v0')\n",
    "print('observation space:',env.observation_space)\n",
    "print('action space:',env.action_space)\n",
    "n_actions=env.action_space.n\n",
    "print('observation space low bound:',env.observation_space.low)\n",
    "print('observation space high bound:',env.observation_space.high)"
   ]
  },
  {
   "cell_type": "code",
   "execution_count": 3,
   "metadata": {},
   "outputs": [
    {
     "name": "stdout",
     "output_type": "stream",
     "text": [
      "low bound: [-3.5        -3.         -0.3        -0.87266463]\n",
      "high bound: [3.5        3.         0.3        0.87266463]\n"
     ]
    }
   ],
   "source": [
    "observation_space_low_bound=env.observation_space.low.copy()\n",
    "observation_space_low_bound[0]=-3.5\n",
    "observation_space_low_bound[1]=-3\n",
    "observation_space_low_bound[2]=-0.3\n",
    "observation_space_low_bound[3]=-math.radians(50)\n",
    "print('low bound:',observation_space_low_bound)\n",
    "observation_space_high_bound=env.observation_space.high.copy()\n",
    "observation_space_high_bound[0]=3.5\n",
    "observation_space_high_bound[1]=3\n",
    "observation_space_high_bound[2]=0.3\n",
    "observation_space_high_bound[3]=math.radians(50)\n",
    "print('high bound:',observation_space_high_bound)"
   ]
  },
  {
   "cell_type": "code",
   "execution_count": 4,
   "metadata": {},
   "outputs": [
    {
     "name": "stdout",
     "output_type": "stream",
     "text": [
      "possible x: []\n",
      "possible xdot: []\n",
      "possible theta: [-0.30000001 -0.15000001  0.          0.15000001  0.30000001]\n",
      "possible thetadot: [-0.87266463 -0.6981317  -0.52359878 -0.34906585 -0.17453293  0.\n",
      "  0.17453293  0.34906585  0.52359878  0.6981317   0.87266463]\n"
     ]
    }
   ],
   "source": [
    "n_bins_x=0\n",
    "possible_x=np.linspace(observation_space_low_bound[0],observation_space_high_bound[0],n_bins_x)\n",
    "print('possible x:',possible_x)\n",
    "n_bins_xdot=0\n",
    "possible_xdot=np.linspace(observation_space_low_bound[1],observation_space_high_bound[1],n_bins_xdot)\n",
    "print('possible xdot:',possible_xdot)\n",
    "n_bins_theta=5\n",
    "possible_theta=np.linspace(observation_space_low_bound[2],observation_space_high_bound[2],n_bins_theta)\n",
    "print('possible theta:',possible_theta)\n",
    "n_bins_thetadot=11\n",
    "possible_thetadot=np.linspace(observation_space_low_bound[3],observation_space_high_bound[3],n_bins_thetadot)\n",
    "print('possible thetadot:',possible_thetadot)"
   ]
  },
  {
   "cell_type": "code",
   "execution_count": 6,
   "metadata": {},
   "outputs": [],
   "source": [
    "def discretize_state(state,possible_x,possible_xdot,possible_theta,possible_thetadot):\n",
    "    discretized_state=np.zeros(4,dtype=int)\n",
    "    i=np.searchsorted(possible_x,state[0])\n",
    "    discretized_state[0]=i\n",
    "    i=np.searchsorted(possible_xdot,state[1])\n",
    "    discretized_state[1]=i\n",
    "    i=np.searchsorted(possible_theta,state[2])\n",
    "    discretized_state[2]=i\n",
    "    i=np.searchsorted(possible_thetadot,state[3])\n",
    "    discretized_state[3]=i\n",
    "    return tuple(discretized_state)"
   ]
  },
  {
   "cell_type": "code",
   "execution_count": 7,
   "metadata": {},
   "outputs": [
    {
     "name": "stdout",
     "output_type": "stream",
     "text": [
      "discretized state: (0, 0, 1, 8)\n"
     ]
    }
   ],
   "source": [
    "state=np.array([0.5,-0.1,-0.3,0.5])\n",
    "print('discretized state:',discretize_state(state,possible_x,possible_xdot,possible_theta,possible_thetadot))"
   ]
  },
  {
   "cell_type": "markdown",
   "metadata": {},
   "source": [
    "## Training and populating Q table"
   ]
  },
  {
   "cell_type": "code",
   "execution_count": 7,
   "metadata": {},
   "outputs": [
    {
     "name": "stdout",
     "output_type": "stream",
     "text": [
      "(1, 1, 6, 12, 2)\n"
     ]
    }
   ],
   "source": [
    "Q=np.zeros((n_bins_x+1,n_bins_xdot+1,n_bins_theta+1,n_bins_thetadot+1,n_actions))\n",
    "print(Q.shape)"
   ]
  },
  {
   "cell_type": "code",
   "execution_count": 8,
   "metadata": {},
   "outputs": [],
   "source": [
    "gamma=0.99"
   ]
  },
  {
   "cell_type": "code",
   "execution_count": 9,
   "metadata": {
    "scrolled": true
   },
   "outputs": [],
   "source": [
    "finished_after=[]\n",
    "n_finished_after=0\n",
    "epsilons=[]\n",
    "finish_steps_prev_100=0\n",
    "for episode in range(300):\n",
    "    epsilon=max(0.1,min(1,1-math.log10((episode+1)/25)))\n",
    "    alpha=max(0.1,min(1,1-math.log10((episode+1)/25)))\n",
    "    epsilons.append(epsilon)\n",
    "    observation=env.reset()\n",
    "    for t in range(250):\n",
    "        env.render()\n",
    "        state=discretize_state(observation,possible_x,possible_xdot,possible_theta,possible_thetadot)\n",
    "        if np.random.random()<epsilon:\n",
    "            action=env.action_space.sample()\n",
    "        else:\n",
    "            action=np.argmax(Q[state])\n",
    "        observation,reward,done,_=env.step(action)\n",
    "        next_state=discretize_state(observation,possible_x,possible_xdot,possible_theta,possible_thetadot)\n",
    "        if not done:\n",
    "            Q[state][action]=(1-alpha)*Q[state][action]+alpha*(reward+gamma*np.max(Q[next_state]))\n",
    "        else:\n",
    "            if t<200:\n",
    "                Q[state][action]=(1-alpha)*Q[state][action]+alpha*(-5)\n",
    "            finished_after.append(t+1)\n",
    "            n_finished_after=n_finished_after+1\n",
    "            break\n",
    "    finish_steps_prev_100=finish_steps_prev_100+finished_after[-1]\n",
    "    if n_finished_after>100:\n",
    "        finish_steps_prev_100=finish_steps_prev_100-finished_after[-101]\n",
    "    if finish_steps_prev_100/100>=195:\n",
    "        break\n",
    "env.close()"
   ]
  },
  {
   "cell_type": "code",
   "execution_count": 10,
   "metadata": {},
   "outputs": [
    {
     "data": {
      "text/plain": [
       "[<matplotlib.lines.Line2D at 0x7fa35abbf898>]"
      ]
     },
     "execution_count": 10,
     "metadata": {},
     "output_type": "execute_result"
    },
    {
     "data": {
      "image/png": "[encoded data removed]",
      "text/plain": [
       "<Figure size 432x288 with 1 Axes>"
      ]
     },
     "metadata": {},
     "output_type": "display_data"
    }
   ],
   "source": [
    "plt.plot(finished_after)"
   ]
  },
  {
   "cell_type": "code",
   "execution_count": 11,
   "metadata": {},
   "outputs": [
    {
     "data": {
      "text/plain": [
       "[<matplotlib.lines.Line2D at 0x7fa35ab59c50>]"
      ]
     },
     "execution_count": 11,
     "metadata": {},
     "output_type": "execute_result"
    },
    {
     "data": {
      "image/png": "[encoded data removed]",
      "text/plain": [
       "<Figure size 432x288 with 1 Axes>"
      ]
     },
     "metadata": {},
     "output_type": "display_data"
    }
   ],
   "source": [
    "plt.plot(epsilons)"
   ]
  },
  {
   "cell_type": "code",
   "execution_count": 12,
   "metadata": {},
   "outputs": [],
   "source": [
    "finished_after=[]\n",
    "for episode in range(100):\n",
    "    observation=env.reset()\n",
    "    for t in range(250):\n",
    "        env.render()\n",
    "        state=discretize_state(observation,possible_x,possible_xdot,possible_theta,possible_thetadot)\n",
    "        action=np.argmax(Q[state])\n",
    "        observation,reward,done,_=env.step(action)\n",
    "        if done:\n",
    "            finished_after.append(t+1)\n",
    "            break\n",
    "env.close()"
   ]
  },
  {
   "cell_type": "code",
   "execution_count": 13,
   "metadata": {},
   "outputs": [
    {
     "data": {
      "text/plain": [
       "[<matplotlib.lines.Line2D at 0x7fa35aabdb00>]"
      ]
     },
     "execution_count": 13,
     "metadata": {},
     "output_type": "execute_result"
    },
    {
     "data": {
      "image/png": "[encoded data removed]",
      "text/plain": [
       "<Figure size 432x288 with 1 Axes>"
      ]
     },
     "metadata": {},
     "output_type": "display_data"
    }
   ],
   "source": [
    "plt.plot(finished_after)"
   ]
  },
  {
   "cell_type": "code",
   "execution_count": 14,
   "metadata": {},
   "outputs": [],
   "source": [
    "#QTable1.pkl - n_bins_x=2, n_bins_xdot=2, n_bins_theta=5, n_bins_thetadot=2 \n",
    "#QTable2.pkl - n_bins_x=0, n_bins_xdot=0, n_bins_theta=5, n_bins_thetadot=11 \n",
    "with open('QTable2.pkl','wb') as f:\n",
    "    pickle.dump(Q,f,pickle.HIGHEST_PROTOCOL)"
   ]
  },
  {
   "cell_type": "markdown",
   "metadata": {},
   "source": [
    "## Loading Q table from pickle file for testing"
   ]
  },
  {
   "cell_type": "code",
   "execution_count": 9,
   "metadata": {},
   "outputs": [
    {
     "name": "stdout",
     "output_type": "stream",
     "text": [
      "average finish times over 100 episodes: 200.0\n"
     ]
    }
   ],
   "source": [
    "with open('QTable2.pkl','rb') as f:\n",
    "    Q=pickle.load(f)\n",
    "finished_after=[]\n",
    "for episode in range(100):\n",
    "    observation=env.reset()\n",
    "    for t in range(250):\n",
    "        env.render()\n",
    "        state=discretize_state(observation,possible_x,possible_xdot,possible_theta,possible_thetadot)\n",
    "        action=np.argmax(Q[state])\n",
    "        observation,reward,done,_=env.step(action)\n",
    "        if done:\n",
    "            finished_after.append(t+1)\n",
    "            break\n",
    "env.close()\n",
    "print('average finish times over 100 episodes:',np.mean(finished_after))"
   ]
  }
 ],
 "metadata": {
  "kernelspec": {
   "display_name": "Python 3",
   "language": "python",
   "name": "python3"
  },
  "language_info": {
   "codemirror_mode": {
    "name": "ipython",
    "version": 3
   },
   "file_extension": ".py",
   "mimetype": "text/x-python",
   "name": "python",
   "nbconvert_exporter": "python",
   "pygments_lexer": "ipython3",
   "version": "3.6.5"
  }
 },
 "nbformat": 4,
 "nbformat_minor": 2
}
